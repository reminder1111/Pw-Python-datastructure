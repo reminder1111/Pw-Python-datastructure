{
 "cells": [
  {
   "cell_type": "code",
   "execution_count": null,
   "id": "d317eba7-1ad9-4205-a28a-d91f379cbf32",
   "metadata": {},
   "outputs": [],
   "source": [
    "#read th"
   ]
  },
  {
   "cell_type": "code",
   "execution_count": 1,
   "id": "b1c8ba9b-71ba-4347-a615-5bdea389195f",
   "metadata": {},
   "outputs": [
    {
     "name": "stdout",
     "output_type": "stream",
     "text": [
      "Reversed string: !dlroW ,olleH\n"
     ]
    }
   ],
   "source": [
    "#1.Write a code to reverse a string.\n",
    "\n",
    "def reverse_string(input_string):\n",
    "    return input_string[::-1]\n",
    "\n",
    "# Example:\n",
    "input_str = \"Hello, World!\"\n",
    "reversed_str = reverse_string(input_str)\n",
    "print(\"Reversed string:\", reversed_str)"
   ]
  },
  {
   "cell_type": "code",
   "execution_count": 2,
   "id": "d98374a5-9e0c-44e8-b6d5-fc722f414af0",
   "metadata": {},
   "outputs": [
    {
     "name": "stdout",
     "output_type": "stream",
     "text": [
      "Number of vowels: 3\n"
     ]
    }
   ],
   "source": [
    "#2.Write a code to count the number of vowels in a string.\n",
    "\n",
    "def count_vowels(input_string):\n",
    "    vowels = \"aeiouAEIOU\"\n",
    "    vowel_count = 0\n",
    "    for char in input_string:\n",
    "        if char in vowels:\n",
    "            vowel_count += 1\n",
    "    return vowel_count\n",
    "\n",
    "# Example:\n",
    "input_str = \"Hello, World!\"\n",
    "num_vowels = count_vowels(input_str)\n",
    "print(\"Number of vowels:\", num_vowels)\n"
   ]
  },
  {
   "cell_type": "code",
   "execution_count": 3,
   "id": "f71e6237-54e9-47ac-826a-c0129d32b883",
   "metadata": {},
   "outputs": [
    {
     "name": "stdout",
     "output_type": "stream",
     "text": [
      "The string is a palindrome.\n"
     ]
    }
   ],
   "source": [
    "##3. Write a code to check if a given string is a palindrome or not\n",
    "\n",
    "def is_palindrome(input_string):\n",
    "    # Remove non-alphanumeric characters and convert to lowercase\n",
    "    clean_string = ''.join(char.lower() for char in input_string if char.isalnum())\n",
    "    # Check if the clean string is equal to its reverse\n",
    "    return clean_string == clean_string[::-1]\n",
    "\n",
    "# Example:\n",
    "input_str = \"A man, a plan, a canal, Panama!\"\n",
    "if is_palindrome(input_str):\n",
    "    print(\"The string is a palindrome.\")\n",
    "else:\n",
    "    print(\"The string is not a palindrome.\")\n"
   ]
  },
  {
   "cell_type": "code",
   "execution_count": 6,
   "id": "a98e7388-58b9-45ee-90c8-08968773ce95",
   "metadata": {},
   "outputs": [
    {
     "name": "stdout",
     "output_type": "stream",
     "text": [
      "The strings are anagrams.\n"
     ]
    }
   ],
   "source": [
    "#4.Write a code to check if two given strings are anagrams of each other.\n",
    "\n",
    "def are_anagrams(str1, str2):\n",
    "    # Remove non-alphanumeric characters and convert to lowercase\n",
    "    clean_str1 = ''.join(char.lower() for char in str1 if char.isalnum())\n",
    "    clean_str2 = ''.join(char.lower() for char in str2 if char.isalnum())\n",
    "    \n",
    "    # Check if the lengths of the cleaned strings are equal\n",
    "    if len(clean_str1) != len(clean_str2):\n",
    "        return False\n",
    "    \n",
    "    # Count the occurrences of each character in both strings\n",
    "    char_count1 = {}\n",
    "    char_count2 = {}\n",
    "    for char in clean_str1:\n",
    "        char_count1[char] = char_count1.get(char, 0) + 1\n",
    "    for char in clean_str2:\n",
    "        char_count2[char] = char_count2.get(char, 0) + 1\n",
    "    \n",
    "    # Check if the character counts are equal\n",
    "    return char_count1 == char_count2\n",
    "\n",
    "# Example:\n",
    "string1 = \"listen\"\n",
    "string2 = \"silent\"\n",
    "if are_anagrams(string1, string2):\n",
    "    print(\"The strings are anagrams.\")\n",
    "else:\n",
    "    print(\"The strings are not anagrams.\")\n"
   ]
  },
  {
   "cell_type": "code",
   "execution_count": 7,
   "id": "0c7a7d17-c805-40b4-8090-d618b504b9db",
   "metadata": {},
   "outputs": [
    {
     "name": "stdout",
     "output_type": "stream",
     "text": [
      "Occurrences of 'hello' in 'hello, hello, hello, how low':\n",
      "[0, 7, 14]\n"
     ]
    }
   ],
   "source": [
    "#5.Write a code to find all occurrences of a given substring within another string.\n",
    "\n",
    "def find_substring(string, substring):\n",
    "    occurrences = []\n",
    "    start = 0\n",
    "    while True:\n",
    "        start = string.find(substring, start)\n",
    "        if start == -1:\n",
    "            break\n",
    "        occurrences.append(start)\n",
    "        start += 1\n",
    "    return occurrences\n",
    "\n",
    "# Example:\n",
    "main_string = \"hello, hello, hello, how low\"\n",
    "substring = \"hello\"\n",
    "print(\"Occurrences of '{}' in '{}':\".format(substring, main_string))\n",
    "print(find_substring(main_string, substring))\n"
   ]
  },
  {
   "cell_type": "code",
   "execution_count": 8,
   "id": "5fdc49e1-2432-4394-8dd1-5a7437adb9c2",
   "metadata": {},
   "outputs": [
    {
     "name": "stdout",
     "output_type": "stream",
     "text": [
      "Compressed string: a2b1c5a3\n"
     ]
    }
   ],
   "source": [
    "#6. Write a code to perform basic string compression using the counts of repeated characters.\n",
    "\n",
    "def compress_string(input_string):\n",
    "    compressed_string = \"\"\n",
    "    count = 1\n",
    "    for i in range(len(input_string)):\n",
    "        # If the current character is the same as the next one, increment count\n",
    "        if i + 1 < len(input_string) and input_string[i] == input_string[i + 1]:\n",
    "            count += 1\n",
    "        else:\n",
    "            # Append the character and its count to the compressed string\n",
    "            compressed_string += input_string[i] + str(count)\n",
    "            count = 1\n",
    "    # If the compressed string is not shorter than the original, return the original string\n",
    "    if len(compressed_string) >= len(input_string):\n",
    "        return input_string\n",
    "    else:\n",
    "        return compressed_string\n",
    "\n",
    "# Example:\n",
    "input_str = \"aabcccccaaa\"\n",
    "compressed_str = compress_string(input_str)\n",
    "print(\"Compressed string:\", compressed_str)\n"
   ]
  },
  {
   "cell_type": "code",
   "execution_count": 9,
   "id": "d6c2000d-ed5a-4000-9026-69a904393287",
   "metadata": {},
   "outputs": [
    {
     "name": "stdout",
     "output_type": "stream",
     "text": [
      "The string has all unique characters.\n"
     ]
    }
   ],
   "source": [
    "#7.Write a code to determine if a string has all unique charaters.\n",
    "\n",
    "def has_unique_characters(input_string):\n",
    "    # Create an empty set to store encountered characters\n",
    "    seen = set()\n",
    "    for char in input_string:\n",
    "        # If the character is already in the set, return False (not unique)\n",
    "        if char in seen:\n",
    "            return False\n",
    "        # Otherwise, add the character to the set\n",
    "        seen.add(char)\n",
    "    # If all characters are unique, return True\n",
    "    return True\n",
    "\n",
    "# Example:\n",
    "input_str = \"abcdefg\"\n",
    "if has_unique_characters(input_str):\n",
    "    print(\"The string has all unique characters.\")\n",
    "else:\n",
    "    print(\"The string does not have all unique characters.\")\n"
   ]
  },
  {
   "cell_type": "code",
   "execution_count": 10,
   "id": "f65c8e41-88e1-4062-95de-26dca6a983dc",
   "metadata": {},
   "outputs": [
    {
     "name": "stdout",
     "output_type": "stream",
     "text": [
      "Original string: Hello, World!\n"
     ]
    },
    {
     "name": "stdin",
     "output_type": "stream",
     "text": [
      "Enter 'U' to convert to uppercase or 'L' to convert to lowercase:  NEHA\n"
     ]
    },
    {
     "name": "stdout",
     "output_type": "stream",
     "text": [
      "Invalid choice. Please enter 'U' or 'L'.\n"
     ]
    }
   ],
   "source": [
    "#8. write a code to convert a given string to uppercase or lowercase.\n",
    "\n",
    "def convert_case(input_string, to_lower=True):\n",
    "    if to_lower:\n",
    "        return input_string.lower()\n",
    "    else:\n",
    "        return input_string.upper()\n",
    "\n",
    "# Example:\n",
    "input_str = \"Hello, World!\"\n",
    "print(\"Original string:\", input_str)\n",
    "\n",
    "choice = input(\"Enter 'U' to convert to uppercase or 'L' to convert to lowercase: \").upper()\n",
    "\n",
    "if choice == 'U':\n",
    "    converted_str = convert_case(input_str, to_lower=False)\n",
    "    print(\"Converted to uppercase:\", converted_str)\n",
    "elif choice == 'L':\n",
    "    converted_str = convert_case(input_str)\n",
    "    print(\"Converted to lowercase:\", converted_str)\n",
    "else:\n",
    "    print(\"Invalid choice. Please enter 'U' or 'L'.\")\n"
   ]
  },
  {
   "cell_type": "code",
   "execution_count": 11,
   "id": "abf65153-93da-48ef-a625-891e63456c72",
   "metadata": {},
   "outputs": [
    {
     "name": "stdout",
     "output_type": "stream",
     "text": [
      "Number of words: 4\n"
     ]
    }
   ],
   "source": [
    "#9. write a code to count the number of words in a string.\n",
    "\n",
    "def count_words(input_string):\n",
    "    # Split the string by whitespace to get a list of words\n",
    "    words = input_string.split()\n",
    "    # Return the length of the list, which represents the number of words\n",
    "    return len(words)\n",
    "\n",
    "# Example:\n",
    "input_str = \"Hello, how are you?\"\n",
    "num_words = count_words(input_str)\n",
    "print(\"Number of words:\", num_words)\n",
    "\n"
   ]
  },
  {
   "cell_type": "code",
   "execution_count": 12,
   "id": "768a1ca6-058d-480f-afcf-369c497b0f59",
   "metadata": {},
   "outputs": [
    {
     "name": "stdout",
     "output_type": "stream",
     "text": [
      "Concatenated string: Hello, World!\n"
     ]
    }
   ],
   "source": [
    "#10.write a code to concatenate two strings without using the + operator.\n",
    "\n",
    "def concatenate_strings(str1, str2):\n",
    "    return \"{}{}\".format(str1, str2)\n",
    "\n",
    "# Example:\n",
    "string1 = \"Hello, \"\n",
    "string2 = \"World!\"\n",
    "result = concatenate_strings(string1, string2)\n",
    "print(\"Concatenated string:\", result)\n"
   ]
  },
  {
   "cell_type": "code",
   "execution_count": 13,
   "id": "4223884b-da11-4938-879f-991f322bd6d3",
   "metadata": {},
   "outputs": [
    {
     "name": "stdout",
     "output_type": "stream",
     "text": [
      "List after removing all occurrences of 2: [1, 3, 4, 5]\n"
     ]
    }
   ],
   "source": [
    "#11. write a code to remove all occurrences of a specific element from a list.\n",
    "\n",
    "def remove_all_occurrences(lst, element):\n",
    "    # Use list comprehension to create a new list without the specified element\n",
    "    return [x for x in lst if x != element]\n",
    "\n",
    "#Example:\n",
    "my_list = [1, 2, 3, 4, 2, 5, 2]\n",
    "element_to_remove = 2\n",
    "result_list = remove_all_occurrences(my_list, element_to_remove)\n",
    "print(\"List after removing all occurrences of {}: {}\".format(element_to_remove, result_list))\n",
    "\n"
   ]
  },
  {
   "cell_type": "code",
   "execution_count": 14,
   "id": "c3e641b0-00d6-4bfb-9607-84b2923bbcd3",
   "metadata": {},
   "outputs": [
    {
     "name": "stdout",
     "output_type": "stream",
     "text": [
      "Second largest number: 10\n"
     ]
    }
   ],
   "source": [
    "#12. Implement a code to find the second largest number in a given list of integers.\n",
    "\n",
    "def find_second_largest(nums):\n",
    "    # Check if the list has at least two elements\n",
    "    if len(nums) < 2:\n",
    "        return \"List should have at least two elements\"\n",
    "    \n",
    "    # Initialize the first and second largest numbers\n",
    "    first_max = max(nums[0], nums[1])\n",
    "    second_max = min(nums[0], nums[1])\n",
    "\n",
    "    # Iterate through the list to find the second largest number\n",
    "    for num in nums[2:]:\n",
    "        if num > first_max:\n",
    "            second_max = first_max\n",
    "            first_max = num\n",
    "        elif num > second_max and num != first_max:\n",
    "            second_max = num\n",
    "\n",
    "    return second_max\n",
    "\n",
    "# Example:\n",
    "my_list = [10, 5, 7, 12, 9, 3]\n",
    "second_largest = find_second_largest(my_list)\n",
    "print(\"Second largest number:\", second_largest)\n"
   ]
  },
  {
   "cell_type": "code",
   "execution_count": 15,
   "id": "5f97833d-bc99-43bd-8b55-b8448f2b2c83",
   "metadata": {},
   "outputs": [
    {
     "name": "stdout",
     "output_type": "stream",
     "text": [
      "Occurrences of each element: {1: 2, 2: 3, 3: 1, 4: 2, 5: 1}\n"
     ]
    }
   ],
   "source": [
    "#13. Create a code to count the occurrences of each element in a list and return a dictionar with elements as keys and their counts as values.\n",
    "\n",
    "def count_occurrences(lst):\n",
    "    # Initialize an empty dictionary to store the counts\n",
    "    counts = {}\n",
    "    \n",
    "    # Iterate through the list and update the counts for each element\n",
    "    for elem in lst:\n",
    "        counts[elem] = counts.get(elem, 0) + 1\n",
    "    \n",
    "    return counts\n",
    "\n",
    "# Example:\n",
    "my_list = [1, 2, 2, 3, 1, 2, 4, 4, 5]\n",
    "occurrences = count_occurrences(my_list)\n",
    "print(\"Occurrences of each element:\", occurrences)\n"
   ]
  },
  {
   "cell_type": "code",
   "execution_count": 16,
   "id": "da71d620-3c41-444a-b796-e10a1f3f7999",
   "metadata": {},
   "outputs": [
    {
     "name": "stdout",
     "output_type": "stream",
     "text": [
      "Original list: [1, 2, 3, 4, 5]\n",
      "Reversed list: [5, 4, 3, 2, 1]\n"
     ]
    }
   ],
   "source": [
    "#14. write a code to reverse a list in place without using any built-in reverse functions.\n",
    "\n",
    "def reverse_list(lst):\n",
    "    # Get the length of the list\n",
    "    length = len(lst)\n",
    "    \n",
    "    # Iterate through half of the list\n",
    "    for i in range(length // 2):\n",
    "        # Swap elements from both ends of the list\n",
    "        lst[i], lst[length - i - 1] = lst[length - i - 1], lst[i]\n",
    "\n",
    "# Example:\n",
    "my_list = [1, 2, 3, 4, 5]\n",
    "print(\"Original list:\", my_list)\n",
    "reverse_list(my_list)\n",
    "print(\"Reversed list:\", my_list)\n"
   ]
  },
  {
   "cell_type": "code",
   "execution_count": 17,
   "id": "76b88e79-cf5a-4ea3-b485-3443292e8dad",
   "metadata": {},
   "outputs": [
    {
     "name": "stdout",
     "output_type": "stream",
     "text": [
      "List after removing duplicates: [1, 2, 3, 4, 5, 6]\n"
     ]
    }
   ],
   "source": [
    "#15.Implement a code to find and remove duplicates from a list while preserving the original order of elements.\n",
    "\n",
    "def remove_duplicates(lst):\n",
    "    seen = set()\n",
    "    result = []\n",
    "    for item in lst:\n",
    "        # If the item has not been encountered yet, add it to the result list\n",
    "        if item not in seen:\n",
    "            result.append(item)\n",
    "            seen.add(item)\n",
    "    return result\n",
    "\n",
    "# Example:\n",
    "my_list = [1, 2, 3, 2, 4, 3, 5, 6, 5]\n",
    "unique_list = remove_duplicates(my_list)\n",
    "print(\"List after removing duplicates:\", unique_list)\n"
   ]
  },
  {
   "cell_type": "code",
   "execution_count": 18,
   "id": "bd148ddc-0406-4fd8-b6bf-3c341d30e632",
   "metadata": {},
   "outputs": [
    {
     "name": "stdout",
     "output_type": "stream",
     "text": [
      "Ascending list: Ascending\n",
      "Descending list: Descending\n",
      "Unsorted list: Unsorted\n"
     ]
    }
   ],
   "source": [
    "#16. create a code to check if a given list is sorted(either in ascending or descending order) or not.\n",
    "\n",
    "def is_sorted(lst):\n",
    "    # Check if the list is sorted in ascending order\n",
    "    if all(lst[i] <= lst[i + 1] for i in range(len(lst) - 1)):\n",
    "        return \"Ascending\"\n",
    "\n",
    "    # Check if the list is sorted in descending order\n",
    "    elif all(lst[i] >= lst[i + 1] for i in range(len(lst) - 1)):\n",
    "        return \"Descending\"\n",
    "\n",
    "    # If the list is not sorted in either ascending or descending order\n",
    "    else:\n",
    "        return \"Unsorted\"\n",
    "\n",
    "# Example:\n",
    "ascending_list = [1, 2, 3, 4, 5]\n",
    "descending_list = [5, 4, 3, 2, 1]\n",
    "unsorted_list = [3, 1, 2, 5, 4]\n",
    "\n",
    "print(\"Ascending list:\", is_sorted(ascending_list))\n",
    "print(\"Descending list:\", is_sorted(descending_list))\n",
    "print(\"Unsorted list:\", is_sorted(unsorted_list))\n"
   ]
  },
  {
   "cell_type": "code",
   "execution_count": 19,
   "id": "6b11f524-1973-49da-acf7-3802c863610c",
   "metadata": {},
   "outputs": [
    {
     "name": "stdout",
     "output_type": "stream",
     "text": [
      "Merged sorted list: [1, 2, 3, 4, 5, 6, 7, 8, 9, 10]\n"
     ]
    }
   ],
   "source": [
    "#17. write a code to merge two sorted lists into a single sorted list.\n",
    "\n",
    "def merge_sorted_lists(list1, list2):\n",
    "    merged_list = []\n",
    "    # Initialize pointers for both lists\n",
    "    i, j = 0, 0\n",
    "\n",
    "    # Merge the lists until one of them is exhausted\n",
    "    while i < len(list1) and j < len(list2):\n",
    "        if list1[i] < list2[j]:\n",
    "            merged_list.append(list1[i])\n",
    "            i += 1\n",
    "        else:\n",
    "            merged_list.append(list2[j])\n",
    "            j += 1\n",
    "\n",
    "    # Append the remaining elements of the non-exhausted list\n",
    "    merged_list.extend(list1[i:])\n",
    "    merged_list.extend(list2[j:])\n",
    "\n",
    "    return merged_list\n",
    "\n",
    "# Example:\n",
    "list1 = [1, 3, 5, 7, 9]\n",
    "list2 = [2, 4, 6, 8, 10]\n",
    "merged_list = merge_sorted_lists(list1, list2)\n",
    "print(\"Merged sorted list:\", merged_list)\n"
   ]
  },
  {
   "cell_type": "code",
   "execution_count": 20,
   "id": "9f442c86-a481-45c9-b2a3-543c3192b2e2",
   "metadata": {},
   "outputs": [
    {
     "name": "stdout",
     "output_type": "stream",
     "text": [
      "Intersection of the two lists: [3, 4, 5]\n"
     ]
    }
   ],
   "source": [
    "#18.Implement a code to find the intersection of two given lists.\n",
    "\n",
    "def find_intersection(list1, list2):\n",
    "    # Initialize an empty list to store the intersection\n",
    "    intersection = []\n",
    "    # Iterate through elements in list1\n",
    "    for item in list1:\n",
    "        # Check if the element is present in list2 and not already in intersection\n",
    "        if item in list2 and item not in intersection:\n",
    "            intersection.append(item)\n",
    "    return intersection\n",
    "\n",
    "# Example:\n",
    "list1 = [1, 2, 3, 4, 5]\n",
    "list2 = [3, 4, 5, 6, 7]\n",
    "intersection = find_intersection(list1, list2)\n",
    "print(\"Intersection of the two lists:\", intersection)\n"
   ]
  },
  {
   "cell_type": "code",
   "execution_count": 21,
   "id": "8e3ac997-3af0-4367-951c-64c256df2937",
   "metadata": {},
   "outputs": [
    {
     "name": "stdout",
     "output_type": "stream",
     "text": [
      "Union of the two lists: [1, 2, 3, 4, 5, 6, 7]\n"
     ]
    }
   ],
   "source": [
    "#19.create a code to find the union of two lists without duplicates.\n",
    "\n",
    "def find_union(list1, list2):\n",
    "    # Combine the two lists\n",
    "    combined_list = list1 + list2\n",
    "    # Initialize an empty list to store the union\n",
    "    union = []\n",
    "    # Iterate through elements in the combined list\n",
    "    for item in combined_list:\n",
    "        # Add the element to the union list if it's not already present\n",
    "        if item not in union:\n",
    "            union.append(item)\n",
    "    return union\n",
    "\n",
    "# Example:\n",
    "list1 = [1, 2, 3, 4, 5]\n",
    "list2 = [3, 4, 5, 6, 7]\n",
    "union = find_union(list1, list2)\n",
    "print(\"Union of the two lists:\", union)\n"
   ]
  },
  {
   "cell_type": "code",
   "execution_count": 22,
   "id": "7e7215c0-322f-4deb-990a-68a6ac8b0e3a",
   "metadata": {},
   "outputs": [
    {
     "name": "stdout",
     "output_type": "stream",
     "text": [
      "Original list: [1, 2, 3, 4, 5]\n",
      "Shuffled list: [3, 4, 2, 1, 5]\n"
     ]
    }
   ],
   "source": [
    "#20. write a code to shuffle a given list randomly without using any built-in shuffle functions.\n",
    "\n",
    "import random\n",
    "\n",
    "def shuffle_list(lst):\n",
    "    # Perform Fisher-Yates shuffle algorithm\n",
    "    for i in range(len(lst) - 1, 0, -1):\n",
    "        # Pick a random index between 0 and i (inclusive)\n",
    "        j = random.randint(0, i)\n",
    "        # Swap elements at indices i and j\n",
    "        lst[i], lst[j] = lst[j], lst[i]\n",
    "\n",
    "# Example:\n",
    "my_list = [1, 2, 3, 4, 5]\n",
    "print(\"Original list:\", my_list)\n",
    "shuffle_list(my_list)\n",
    "print(\"Shuffled list:\", my_list)\n"
   ]
  },
  {
   "cell_type": "code",
   "execution_count": 23,
   "id": "d8c32e68-7d48-4793-985c-f4ea37ba17f3",
   "metadata": {},
   "outputs": [
    {
     "name": "stdout",
     "output_type": "stream",
     "text": [
      "Common elements tuple: (4, 5)\n"
     ]
    }
   ],
   "source": [
    "#21. write a code that takes two tuples as input and returns a new  tuple containing elements that are common to both input tuples.\n",
    "\n",
    "def common_elements(tuple1, tuple2):\n",
    "    # Convert tuples to sets to perform intersection operation\n",
    "    set1 = set(tuple1)\n",
    "    set2 = set(tuple2)\n",
    "    # Find the intersection of the two sets\n",
    "    intersection = set1.intersection(set2)\n",
    "    # Convert the intersection set back to a tuple\n",
    "    common_tuple = tuple(intersection)\n",
    "    return common_tuple\n",
    "\n",
    "# Example:\n",
    "tuple1 = (1, 2, 3, 4, 5)\n",
    "tuple2 = (4, 5, 6, 7, 8)\n",
    "common = common_elements(tuple1, tuple2)\n",
    "print(\"Common elements tuple:\", common)\n"
   ]
  },
  {
   "cell_type": "code",
   "execution_count": 25,
   "id": "6f4938d7-bfc6-4d63-ba95-00a17f3bb1dc",
   "metadata": {},
   "outputs": [
    {
     "name": "stdin",
     "output_type": "stream",
     "text": [
      "Enter the first set of integers separated by commas:  3,4\n",
      "Enter the second set of integers separated by commas:  4,5\n"
     ]
    },
    {
     "name": "stdout",
     "output_type": "stream",
     "text": [
      "Intersection of the two sets: {4}\n"
     ]
    }
   ],
   "source": [
    "#22.Create a code that prompts the user to enter two sets of integers separated by commas. Then, print the intersection of these two sets.\n",
    "\n",
    "def parse_input_set(input_str):\n",
    "    # Split the input string by commas and convert each element to an integer\n",
    "    return set(map(int, input_str.split(',')))\n",
    "\n",
    "# Prompt the user to enter two sets of integers\n",
    "input_set1 = input(\"Enter the first set of integers separated by commas: \")\n",
    "input_set2 = input(\"Enter the second set of integers separated by commas: \")\n",
    "\n",
    "# Parse the input strings into sets\n",
    "set1 = parse_input_set(input_set1)\n",
    "set2 = parse_input_set(input_set2)\n",
    "\n",
    "# Find the intersection of the two sets\n",
    "intersection = set1.intersection(set2)\n",
    "\n",
    "# Print the intersection\n",
    "print(\"Intersection of the two sets:\", intersection)\n"
   ]
  },
  {
   "cell_type": "code",
   "execution_count": 26,
   "id": "a571c6ae-b53e-462e-b4bf-22722335325a",
   "metadata": {},
   "outputs": [
    {
     "name": "stdout",
     "output_type": "stream",
     "text": [
      "Concatenated tuple: (1, 2, 3, 4, 5, 6)\n"
     ]
    }
   ],
   "source": [
    "#23.write a code to concatenate two tuples. the function should take two tuples as input and return a new tuple containing elements from both input tuples.\n",
    "\n",
    "def concatenate_tuples(tuple1, tuple2):\n",
    "    # Convert tuples to lists for concatenation\n",
    "    list1 = list(tuple1)\n",
    "    list2 = list(tuple2)\n",
    "    # Concatenate the lists\n",
    "    concatenated_list = list1 + list2\n",
    "    # Convert the concatenated list back to a tuple\n",
    "    concatenated_tuple = tuple(concatenated_list)\n",
    "    return concatenated_tuple\n",
    "\n",
    "# Example:\n",
    "tuple1 = (1, 2, 3)\n",
    "tuple2 = (4, 5, 6)\n",
    "concatenated_tuple = concatenate_tuples(tuple1, tuple2)\n",
    "print(\"Concatenated tuple:\", concatenated_tuple)\n"
   ]
  },
  {
   "cell_type": "code",
   "execution_count": 27,
   "id": "3cce1c83-5db8-4a99-a7d4-239e9aef0214",
   "metadata": {},
   "outputs": [
    {
     "name": "stdin",
     "output_type": "stream",
     "text": [
      "Enter the first set of strings separated by commas:  {\"hiking\",\"reading\",\"coding\"}\n",
      "Enter the second set of strings separated by commas:  {\"coding\",\"photography\",\"travelling\"}\n"
     ]
    },
    {
     "name": "stdout",
     "output_type": "stream",
     "text": [
      "Elements present in the first set but not in the second set: {'\"coding\"}', '{\"hiking\"', '\"reading\"'}\n"
     ]
    }
   ],
   "source": [
    "#24.Develop a code that prompts the user to input two sets of strings. then, print the elements that are present in the first set but not in the second set.\n",
    "\n",
    "def parse_input_set(input_str):\n",
    "    # Split the input string by commas and strip whitespace from each element\n",
    "    return set(map(str.strip, input_str.split(',')))\n",
    "\n",
    "# Prompt the user to enter two sets of strings\n",
    "input_set1 = input(\"Enter the first set of strings separated by commas: \")\n",
    "input_set2 = input(\"Enter the second set of strings separated by commas: \")\n",
    "\n",
    "# Parse the input strings into sets\n",
    "set1 = parse_input_set(input_set1)\n",
    "set2 = parse_input_set(input_set2)\n",
    "\n",
    "# Find the elements present in the first set but not in the second set\n",
    "difference = set1 - set2\n",
    "\n",
    "# Print the elements present in the first set but not in the second set\n",
    "print(\"Elements present in the first set but not in the second set:\", difference)\n"
   ]
  },
  {
   "cell_type": "code",
   "execution_count": 28,
   "id": "dc116b36-4e14-46d4-a0fa-3bd70353eab6",
   "metadata": {},
   "outputs": [
    {
     "name": "stdout",
     "output_type": "stream",
     "text": [
      "Extracted tuple: (3, 4, 5, 6)\n"
     ]
    }
   ],
   "source": [
    "#25.create a code that takes a tuple and two integers as input.the function should return a new tuple containing elements from the original tuple within the specified range of indices.\n",
    "\n",
    "def extract_elements(original_tuple, start_index, end_index):\n",
    "    # Extract elements within the specified range of indices\n",
    "    extracted_tuple = original_tuple[start_index:end_index+1]\n",
    "    return tuple(extracted_tuple)\n",
    "\n",
    "# Example:\n",
    "original_tuple = (1, 2, 3, 4, 5, 6, 7, 8, 9)\n",
    "start_index = 2\n",
    "end_index = 5\n",
    "extracted_tuple = extract_elements(original_tuple, start_index, end_index)\n",
    "print(\"Extracted tuple:\", extracted_tuple)\n"
   ]
  },
  {
   "cell_type": "code",
   "execution_count": 29,
   "id": "4bf49ef9-83c5-4388-a2e5-561eb1cb67f6",
   "metadata": {},
   "outputs": [
    {
     "name": "stdin",
     "output_type": "stream",
     "text": [
      "Enter the first set of characters (separated by commas):  {(1,2,3), 100, '2',3}\n",
      "Enter the second set of characters (separated by commas):  {(1,2,3), 100, '2',3}\n"
     ]
    },
    {
     "name": "stdout",
     "output_type": "stream",
     "text": [
      "Union of the two sets: {'1', ' ', ')', '{', ',', '0', '(', '2', '}', \"'\", '3'}\n"
     ]
    }
   ],
   "source": [
    "#26.write a code that prompts the user to input two sets of characters. then, print the union of these two sets.\n",
    "\n",
    "def parse_input_set(input_str):\n",
    "    # Split the input string by commas and convert each element to a character\n",
    "    return set(input_str)\n",
    "\n",
    "# Prompt the user to enter two sets of characters\n",
    "input_set1 = input(\"Enter the first set of characters (separated by commas): \")\n",
    "input_set2 = input(\"Enter the second set of characters (separated by commas): \")\n",
    "\n",
    "# Parse the input strings into sets\n",
    "set1 = parse_input_set(input_set1)\n",
    "set2 = parse_input_set(input_set2)\n",
    "\n",
    "# Find the union of the two sets\n",
    "union = set1.union(set2)\n",
    "\n",
    "# Print the union of the two sets\n",
    "print(\"Union of the two sets:\", union)\n"
   ]
  },
  {
   "cell_type": "code",
   "execution_count": 1,
   "id": "84c8d72b-cbc6-40ee-b2cf-d67cb5c4de62",
   "metadata": {},
   "outputs": [
    {
     "name": "stdout",
     "output_type": "stream",
     "text": [
      "Maximum value: 20\n",
      "Minimum value: 3\n"
     ]
    }
   ],
   "source": [
    "#27.develop a code that takes a tuple of integers as input. the function should return the maximum and minimum values from the tuple using unpacking.\n",
    "\n",
    "def find_max_min(tuple_of_integers):\n",
    "    # Unpack the tuple to find maximum and minimum values\n",
    "    max_val = max(tuple_of_integers)\n",
    "    min_val = min(tuple_of_integers)\n",
    "    return max_val, min_val\n",
    "\n",
    "# Example usage:\n",
    "tuple_of_integers = (10, 5, 3, 7, 20, 15)\n",
    "max_val, min_val = find_max_min(tuple_of_integers)\n",
    "print(\"Maximum value:\", max_val)\n",
    "print(\"Minimum value:\", min_val)\n"
   ]
  },
  {
   "cell_type": "code",
   "execution_count": 2,
   "id": "d8cc433f-3c2c-4c5d-b714-278967bf228a",
   "metadata": {},
   "outputs": [
    {
     "name": "stdout",
     "output_type": "stream",
     "text": [
      "Set 1: {1, 2, 3, 4, 5}\n",
      "Set 2: {4, 5, 6, 7, 8}\n",
      "Union of the two sets: {1, 2, 3, 4, 5, 6, 7, 8}\n",
      "Intersection of the two sets: {4, 5}\n",
      "Difference between set 1 and set 2: {1, 2, 3}\n",
      "Difference between set 2 and set 1: {8, 6, 7}\n"
     ]
    }
   ],
   "source": [
    "#28.create a code that defines two sets of integers. then, print the union, intersection, and difference of these two sets.\n",
    "\n",
    "# Define two sets of integers\n",
    "set1 = {1, 2, 3, 4, 5}\n",
    "set2 = {4, 5, 6, 7, 8}\n",
    "\n",
    "# Print the sets\n",
    "print(\"Set 1:\", set1)\n",
    "print(\"Set 2:\", set2)\n",
    "\n",
    "# Calculate and print the union of the two sets\n",
    "union = set1.union(set2)\n",
    "print(\"Union of the two sets:\", union)\n",
    "\n",
    "# Calculate and print the intersection of the two sets\n",
    "intersection = set1.intersection(set2)\n",
    "print(\"Intersection of the two sets:\", intersection)\n",
    "\n",
    "# Calculate and print the difference between set1 and set2\n",
    "difference_1_2 = set1.difference(set2)\n",
    "print(\"Difference between set 1 and set 2:\", difference_1_2)\n",
    "\n",
    "# Calculate and print the difference between set2 and set1\n",
    "difference_2_1 = set2.difference(set1)\n",
    "print(\"Difference between set 2 and set 1:\", difference_2_1)\n"
   ]
  },
  {
   "cell_type": "code",
   "execution_count": 3,
   "id": "e5520186-ce39-43a9-b879-a74dfafc72e6",
   "metadata": {},
   "outputs": [
    {
     "name": "stdout",
     "output_type": "stream",
     "text": [
      "Occurrences of 2 in the tuple: 3\n"
     ]
    }
   ],
   "source": [
    "#29.write a code that takes a tuple and an element as input. the function should return the count of occurrences of the given element in the tuple.\n",
    "\n",
    "def count_occurrences(tuple_data, element):\n",
    "    # Use the count() method to count occurrences of the element in the tuple\n",
    "    return tuple_data.count(element)\n",
    "\n",
    "# Example:\n",
    "my_tuple = (1, 2, 3, 4, 5, 2, 2)\n",
    "element_to_count = 2\n",
    "occurrences = count_occurrences(my_tuple, element_to_count)\n",
    "print(\"Occurrences of\", element_to_count, \"in the tuple:\", occurrences)\n"
   ]
  },
  {
   "cell_type": "code",
   "execution_count": 4,
   "id": "3e028d3e-7af2-48b3-bc3d-ddd1b8b6504b",
   "metadata": {},
   "outputs": [
    {
     "name": "stdin",
     "output_type": "stream",
     "text": [
      "Enter the first set of strings separated by commas:  {1, 2, 3, 4, 5}\n",
      "Enter the second set of strings separated by commas:  {4, 5, 6, 7, 8}\n"
     ]
    },
    {
     "name": "stdout",
     "output_type": "stream",
     "text": [
      "Symmetric difference of the two sets: {'4', '{4', '5', '6', '3', '2', '7', '5}', '{1', '8}'}\n"
     ]
    }
   ],
   "source": [
    "#30.Develop a code that prompts the user to input two sets of strings.then, print the symmetric difference of these two sets.\n",
    "\n",
    "def parse_input_set(input_str):\n",
    "    # Split the input string by commas and strip whitespace from each element\n",
    "    return set(map(str.strip, input_str.split(',')))\n",
    "\n",
    "# Prompt the user to enter two sets of strings\n",
    "input_set1 = input(\"Enter the first set of strings separated by commas: \")\n",
    "input_set2 = input(\"Enter the second set of strings separated by commas: \")\n",
    "\n",
    "# Parse the input strings into sets\n",
    "set1 = parse_input_set(input_set1)\n",
    "set2 = parse_input_set(input_set2)\n",
    "\n",
    "# Find the symmetric difference of the two sets\n",
    "symmetric_difference = set1.symmetric_difference(set2)\n",
    "\n",
    "# Print the symmetric difference of the two sets\n",
    "print(\"Symmetric difference of the two sets:\", symmetric_difference)\n"
   ]
  },
  {
   "cell_type": "code",
   "execution_count": 5,
   "id": "42772982-e3c8-4c9c-a762-e2d1a924d5fd",
   "metadata": {},
   "outputs": [
    {
     "name": "stdout",
     "output_type": "stream",
     "text": [
      "Word frequencies: {'apple': 3, 'banana': 2, 'orange': 1, 'grape': 1}\n"
     ]
    }
   ],
   "source": [
    "#31.write a code that takes a list of words as input and returns a dictionary where the keys are unique words and the values are the frequencies of those words in the input list.\n",
    "\n",
    "def count_word_frequencies(word_list):\n",
    "    word_freq = {}\n",
    "    for word in word_list:\n",
    "        # Increment the frequency count for each word\n",
    "        word_freq[word] = word_freq.get(word, 0) + 1\n",
    "    return word_freq\n",
    "\n",
    "# Example:\n",
    "input_list = [\"apple\", \"banana\", \"apple\", \"orange\", \"banana\", \"apple\", \"grape\"]\n",
    "word_frequencies = count_word_frequencies(input_list)\n",
    "print(\"Word frequencies:\", word_frequencies)\n"
   ]
  },
  {
   "cell_type": "code",
   "execution_count": 6,
   "id": "22a94472-c0e4-4e72-88a9-d47891b14971",
   "metadata": {},
   "outputs": [
    {
     "name": "stdout",
     "output_type": "stream",
     "text": [
      "Merged dictionary: {'a': 1, 'b': 5, 'c': 7, 'd': 5}\n"
     ]
    }
   ],
   "source": [
    "#32.write a code that takes two dictionaries as input and merges them into a single dictionary. if there are common keys, the values should be added together.\n",
    "\n",
    "def merge_dictionaries(dict1, dict2):\n",
    "    merged_dict = dict1.copy()  # Create a copy of the first dictionary\n",
    "    \n",
    "    for key, value in dict2.items():\n",
    "        if key in merged_dict:\n",
    "            merged_dict[key] += value  # Add values if key exists in both dictionaries\n",
    "        else:\n",
    "            merged_dict[key] = value   # Otherwise, add new key-value pair\n",
    "    \n",
    "    return merged_dict\n",
    "\n",
    "# Example:\n",
    "dict1 = {'a': 1, 'b': 2, 'c': 3}\n",
    "dict2 = {'b': 3, 'c': 4, 'd': 5}\n",
    "merged_dict = merge_dictionaries(dict1, dict2)\n",
    "print(\"Merged dictionary:\", merged_dict)\n"
   ]
  },
  {
   "cell_type": "code",
   "execution_count": 7,
   "id": "46e657b2-0d7a-4c2b-9e11-9d21e93b0b78",
   "metadata": {},
   "outputs": [
    {
     "name": "stdout",
     "output_type": "stream",
     "text": [
      "Value: 1\n"
     ]
    }
   ],
   "source": [
    "#33.write a code to access a value in a nested dictionary. the function should take the dictionary and a list of keys as input, and return the corresponding values. if any of the keys don not exist in the dictionary, the function should return None.\n",
    "\n",
    "def access_nested_value(dictionary, keys):\n",
    "    # Iterate through the keys to access nested dictionaries\n",
    "    nested_dict = dictionary\n",
    "    for key in keys:\n",
    "        if key in nested_dict:\n",
    "            nested_dict = nested_dict[key]\n",
    "        else:\n",
    "            return None\n",
    "    return nested_dict\n",
    "\n",
    "# Example:\n",
    "my_dict = {\n",
    "    'a': {\n",
    "        'b': {\n",
    "            'c': 1,\n",
    "            'd': 2\n",
    "        }\n",
    "    },\n",
    "    'x': {\n",
    "        'y': 3\n",
    "    }\n",
    "}\n",
    "keys_to_access = ['a', 'b', 'c']\n",
    "value = access_nested_value(my_dict, keys_to_access)\n",
    "print(\"Value:\", value)\n"
   ]
  },
  {
   "cell_type": "code",
   "execution_count": 8,
   "id": "98048ddf-4fda-413e-8e76-541fe547ab2f",
   "metadata": {},
   "outputs": [
    {
     "name": "stdout",
     "output_type": "stream",
     "text": [
      "Sorted dictionary (descending order): {'d': 12, 'a': 10, 'c': 8, 'b': 5}\n"
     ]
    }
   ],
   "source": [
    "#34.write a code that takes a dictionary as input and returns a sorted version of it based on the values. you can choose whether to sort in ascending or descending order.\n",
    "\n",
    "def sort_dict_by_values(dictionary, reverse=True):\n",
    "    sorted_dict = dict(sorted(dictionary.items(), key=lambda item: item[1], reverse=reverse))\n",
    "    return sorted_dict\n",
    "\n",
    "# Example:\n",
    "my_dict = {'a': 10, 'b': 5, 'c': 8, 'd': 12}\n",
    "sorted_dict = sort_dict_by_values(my_dict)\n",
    "print(\"Sorted dictionary (descending order):\", sorted_dict)\n"
   ]
  },
  {
   "cell_type": "code",
   "execution_count": 9,
   "id": "44f5cd20-8f15-48d9-836f-a4cb82143059",
   "metadata": {},
   "outputs": [
    {
     "name": "stdout",
     "output_type": "stream",
     "text": [
      "{1: ['a', 'c'], 2: ['b'], 3: ['d']}\n"
     ]
    }
   ],
   "source": [
    "#35. write a code that inverts a dictionary, swapping keys and values. ensure that the inverted dictionary correctly handles cases where multiple keys have the same value by storing the keys as a list in the inverted dictinary.\n",
    "\n",
    "def invert_dict(d):\n",
    "    inverted_dict = {}\n",
    "    for key, value in d.items():\n",
    "        if value not in inverted_dict:\n",
    "            inverted_dict[value] = [key]\n",
    "        else:\n",
    "            inverted_dict[value].append(key)\n",
    "    return inverted_dict\n",
    "\n",
    "# Example:\n",
    "original_dict = {'a': 1, 'b': 2, 'c': 1, 'd': 3}\n",
    "inverted = invert_dict(original_dict)\n",
    "print(inverted)\n"
   ]
  },
  {
   "cell_type": "raw",
   "id": "655e0772-3733-4282-b347-b1f5417ba9df",
   "metadata": {},
   "source": [
    "The End!!"
   ]
  }
 ],
 "metadata": {
  "kernelspec": {
   "display_name": "Python 3 (ipykernel)",
   "language": "python",
   "name": "python3"
  },
  "language_info": {
   "codemirror_mode": {
    "name": "ipython",
    "version": 3
   },
   "file_extension": ".py",
   "mimetype": "text/x-python",
   "name": "python",
   "nbconvert_exporter": "python",
   "pygments_lexer": "ipython3",
   "version": "3.10.8"
  }
 },
 "nbformat": 4,
 "nbformat_minor": 5
}
